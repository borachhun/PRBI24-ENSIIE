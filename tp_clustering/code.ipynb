{
 "cells": [
  {
   "cell_type": "markdown",
   "metadata": {},
   "source": [
    "<h1><center>Travail Pratique</center></h1>"
   ]
  },
  {
   "cell_type": "markdown",
   "metadata": {},
   "source": [
    "<h2><center>Classer des chiffres manuscrits en exploitant l’algorithme des K-moyennes</center></h2>"
   ]
  },
  {
   "cell_type": "markdown",
   "metadata": {},
   "source": [
    "<h5><center>YOU Borachhun, LE Do Thanh Dat</center></h5>"
   ]
  },
  {
   "cell_type": "markdown",
   "metadata": {},
   "source": [
    "Importer des libraries"
   ]
  },
  {
   "cell_type": "code",
   "execution_count": null,
   "metadata": {},
   "outputs": [],
   "source": [
    "import pandas as pd\n",
    "import matplotlib.pyplot as plt\n",
    "import numpy as np\n",
    "import math\n",
    "from sklearn.cluster import KMeans\n",
    "from sklearn.metrics import silhouette_score, confusion_matrix, \\\n",
    "                            classification_report\n",
    "from scipy.cluster.hierarchy import dendrogram, linkage, cut_tree"
   ]
  },
  {
   "cell_type": "markdown",
   "metadata": {},
   "source": [
    "# I. Apprentissage"
   ]
  },
  {
   "cell_type": "markdown",
   "metadata": {},
   "source": [
    "1. Faire un K-moyennes avec K=10 sur la base d’apprentissage (BA) : optdigits.tra"
   ]
  },
  {
   "cell_type": "code",
   "execution_count": null,
   "metadata": {},
   "outputs": [],
   "source": [
    "train_data = pd.read_csv('optdigits.tra', header=None)\n",
    "X_train = train_data.iloc[:, 0:64]\n",
    "y_train = train_data.iloc[:, 64]\n",
    "\n",
    "kmeans = KMeans(n_clusters=10, n_init='auto', random_state=31)\\\n",
    "            .fit(X_train)\n",
    "cluster_train = kmeans.labels_"
   ]
  },
  {
   "cell_type": "markdown",
   "metadata": {},
   "source": [
    "2. Par cluster : faire un histogramme du nombre de chiffres de chaque classe"
   ]
  },
  {
   "cell_type": "code",
   "execution_count": null,
   "metadata": {},
   "outputs": [],
   "source": [
    "plt.figure(figsize=(8,12))\n",
    "for i in range(10):\n",
    "    plt.subplot(5, 2, i+1)\n",
    "    plt.xlim(-1,10)\n",
    "    plt.xticks(range(0,10))\n",
    "    plt.hist(y_train[[c == i for c in cluster_train]], bins=20)\n",
    "plt.show()"
   ]
  },
  {
   "cell_type": "code",
   "execution_count": null,
   "metadata": {},
   "outputs": [],
   "source": [
    "# Plot center of each cluster\n",
    "kmeans_centers = kmeans.cluster_centers_\n",
    "plt.figure(figsize=(6,3))\n",
    "plt.suptitle('Centres de cluster (K-moyennes)')\n",
    "for i in range(len(kmeans_centers)):\n",
    "    plt.subplot(2, 5, i+1)\n",
    "    plt.imshow(np.reshape(kmeans_centers[i], (8,8)), cmap=plt.get_cmap('gray'))\n",
    "    plt.axis('off')\n",
    "plt.show()"
   ]
  },
  {
   "attachments": {},
   "cell_type": "markdown",
   "metadata": {},
   "source": [
    "Tous clusters sont bien classés, sauf 2 clusters :\n",
    "- Le 6ème cluster : le chiffre 3 se trouve le plus, mais il y a aussi beaucoup de chiffre 9.\n",
    "- Le 10ème cluster : le chiffre 1 se trouve le plus, mais il y a aussi beaucoup de chiffre 9.\n",
    "\n",
    "Par conséquent, le centre des deux clusters semble être un mélange de deux chiffres (3 et 9, 1 et 9, respectivement).\n",
    "\n",
    "Autres remarques :\n",
    "- ∼2/3 des chiffres 1 sont dans le 7ème cluster et l'autre ∼1/3 sont dans le 10ème cluster.\n",
    "- ∼2/3 des chiffres 9 sont dans le 6ème cluster et l'autre ∼1/3 sont dans le 10ème cluster."
   ]
  },
  {
   "cell_type": "markdown",
   "metadata": {},
   "source": [
    "3. Mesurer la qualité du Clustering avec l’indice de la Silhouette"
   ]
  },
  {
   "cell_type": "code",
   "execution_count": null,
   "metadata": {},
   "outputs": [],
   "source": [
    "print(\"Silhouette index:\", silhouette_score(X_train, cluster_train))"
   ]
  },
  {
   "attachments": {},
   "cell_type": "markdown",
   "metadata": {},
   "source": [
    "Globalement, ce n'est pas un très bon clustering puisque l'indice de la Silhouette moyen est loin de 1. De plus, l'indice est proche de 0, ce qui signifie qu'il y a des clusters qui se chevauchent (overlapping clusters), ce que nous pouvons voir dans la question précédente."
   ]
  },
  {
   "cell_type": "markdown",
   "metadata": {},
   "source": [
    "4. Faire varier K entre 10 et 20 clusters et calculer pour chaque K l'indice de la Silhouette"
   ]
  },
  {
   "cell_type": "code",
   "execution_count": null,
   "metadata": {},
   "outputs": [],
   "source": [
    "sil_scores = [\n",
    "    silhouette_score(\n",
    "        X_train,\n",
    "        KMeans(n_clusters=K, n_init='auto', random_state=31) \\\n",
    "            .fit(X_train).labels_\n",
    "    )\n",
    "    for K in range(10,20+1)\n",
    "]\n",
    "plt.plot([K for K in range(10,20+1)], sil_scores)\n",
    "plt.show()\n",
    "\n",
    "print(\"Maximum value of Silhouette index:\", max(sil_scores))"
   ]
  },
  {
   "cell_type": "markdown",
   "metadata": {},
   "source": [
    "Selon le graphique ci-dessus, nous obtenons le meilleur clustering avec K = 11."
   ]
  },
  {
   "cell_type": "markdown",
   "metadata": {},
   "source": [
    "# II. Test"
   ]
  },
  {
   "cell_type": "markdown",
   "metadata": {},
   "source": [
    "1. Par cluster : faire un vote à la majorité pour attribuer un label à chaque cluster"
   ]
  },
  {
   "cell_type": "code",
   "execution_count": null,
   "metadata": {},
   "outputs": [],
   "source": [
    "cluster_to_label = {}\n",
    "\n",
    "# for each cluster\n",
    "for i in range(10):\n",
    "\n",
    "    # labels in the cluster\n",
    "    label_in_cluster_i = y_train[[c == i for c in cluster_train]]\n",
    "\n",
    "    # count number of each label in the cluster\n",
    "    num_label_in_cluster_i = [\n",
    "        np.sum([int(l == j) for l in label_in_cluster_i])\n",
    "        for j in range(10)\n",
    "    ]\n",
    "\n",
    "    # assign label that exist the most in the cluster to the cluster\n",
    "    cluster_to_label[i] = num_label_in_cluster_i.index(\n",
    "                                max(num_label_in_cluster_i))\n",
    "\n",
    "print('Majority vote (cluster to label):\\n', cluster_to_label)"
   ]
  },
  {
   "attachments": {},
   "cell_type": "markdown",
   "metadata": {},
   "source": [
    "Remarque : par le vote à la majorité, nous pouvons voir qu'il n'y a pas de cluster attribué au label 9 pour ce clustering, et il y a deux clusters attribués au label 1."
   ]
  },
  {
   "cell_type": "markdown",
   "metadata": {},
   "source": [
    "2. Pour chaque élément de la BT (Base de Test) : optdigits.tes\n",
    "    - Chercher le Cluster (Centre) le plus proche\n",
    "    - Attribuer à cet élément de la BT le label associé au Cluster le plus proche\n",
    "    - Calculer la matrice de confusions (matrice 10x10) et la performance globale : analyser les confusions"
   ]
  },
  {
   "cell_type": "code",
   "execution_count": null,
   "metadata": {},
   "outputs": [],
   "source": [
    "test_data = pd.read_csv('optdigits.tes', header=None)\n",
    "X_test = test_data.iloc[:, 0:64]\n",
    "y_test = test_data.iloc[:, 64]\n",
    "\n",
    "cluster_test = kmeans.predict(X_test)\n",
    "y_test_predict = [cluster_to_label[c] for c in cluster_test]\n",
    "\n",
    "# Confusion matrix\n",
    "print('Confusion matrix:\\n{}'.format(\n",
    "                    confusion_matrix(y_test, y_test_predict)))\n",
    "\n",
    "# Performance\n",
    "print(classification_report(y_test, y_test_predict, digits=3))"
   ]
  },
  {
   "attachments": {},
   "cell_type": "markdown",
   "metadata": {},
   "source": [
    "Selon la matrice de confusion, nous pouvons voir que le résultat est bon sauf pour le label 9. Pour les labels 0 à 8, les éléments diagonaux de la matrice ont de grandes valeurs, ce qui signifie que beaucoup de ces chiffres sont correctement classés. Cependant, tous les chiffres 9 sont mal classés comme autres chiffres, avec la majorité étant 3. Ceci est la conséquence des questions précédentes de n'avoir aucun cluster attribué au label 9 et beaucoup de chiffre 9 étant dans le cluster du chiffre 3."
   ]
  },
  {
   "cell_type": "markdown",
   "metadata": {},
   "source": [
    "# III. Comparaison au Clustering Hiérarchique (avec le critère de Ward)"
   ]
  },
  {
   "cell_type": "markdown",
   "metadata": {},
   "source": [
    "1. Phase d’apprentissage : sur optdigits.tra"
   ]
  },
  {
   "cell_type": "markdown",
   "metadata": {},
   "source": [
    "- Faire un Clustering Hiérarchique et visualiser le dendrogramme"
   ]
  },
  {
   "cell_type": "code",
   "execution_count": null,
   "metadata": {},
   "outputs": [],
   "source": [
    "linkage_matrix = linkage(X_train, method='ward', metric='euclidean')\n",
    "d = dendrogram(linkage_matrix)\n",
    "plt.show()"
   ]
  },
  {
   "cell_type": "markdown",
   "metadata": {},
   "source": [
    "- Couper le dendrogramme à K=10, calculer l’indice de la Silhouette et faire les histogrammes par cluster (à comparer avec histogrammes avec K-moyennes). Comparer à la valeur de la Silhouette obtenue avec l’algorithme des K-moyennes."
   ]
  },
  {
   "cell_type": "code",
   "execution_count": null,
   "metadata": {},
   "outputs": [],
   "source": [
    "# Cut the dendrogram with K = 10 clusters\n",
    "hierarchy_labels = cut_tree(linkage_matrix, n_clusters=10).ravel()\n",
    "\n",
    "# Faire des histogrammes\n",
    "plt.figure(figsize=(8,12))\n",
    "for i in range(10):\n",
    "    plt.subplot(5, 2, i+1)\n",
    "    plt.xlim(-1,10)\n",
    "    plt.xticks(range(0,10))\n",
    "    plt.hist(y_train[[c == i for c in hierarchy_labels]], bins=20)\n",
    "plt.show()"
   ]
  },
  {
   "cell_type": "code",
   "execution_count": null,
   "metadata": {},
   "outputs": [],
   "source": [
    "# Trouver les centres de chaque cluster\n",
    "centers = []\n",
    "for i in range(10):\n",
    "    sum = np.zeros(64)\n",
    "    count = 0\n",
    "    for j in range(len(hierarchy_labels)):\n",
    "        if hierarchy_labels[j] == i:\n",
    "            sum += X_train.loc[j,:]\n",
    "            count += 1\n",
    "    centers.append(sum/count)\n",
    "\n",
    "# Plot center of each cluster\n",
    "plt.figure(figsize=(6,3))\n",
    "plt.suptitle('Centres de cluster (Clustering Hiérarchique)')\n",
    "for i in range(len(centers)):\n",
    "    plt.subplot(2, 5, i+1)\n",
    "    plt.imshow(np.reshape(np.array(centers[i]), (8,8)), cmap=plt.get_cmap('gray'))\n",
    "    plt.axis('off')\n",
    "plt.show()"
   ]
  },
  {
   "attachments": {},
   "cell_type": "markdown",
   "metadata": {},
   "source": [
    "Comme la méthode de K-moyennes, il y a 2 mauvais clusters :\n",
    "- Le 3ème cluster : le chiffre 9 se trouve le plus, mais il y a aussi beaucoup de chiffre 1 et 4.\n",
    "- Le 8ème cluster : le chiffre 3 se trouve le plus, mais il y a aussi beaucoup de chiffre 9.\n",
    "\n",
    "Par conséquent, le centre des deux clusters semble être un mélange de deux ou trois chiffres.\n",
    "\n",
    "Autres remarques :\n",
    "- ∼1/3 des chiffres 1 sont dans le 3ème cluster et l'autre ∼2/3 sont dans le 10ème cluster.\n",
    "- ∼1/3 des chiffres 4 sont dans le 3ème cluster et l'autre ∼2/3 sont dans le 9ème cluster.\n",
    "- ∼1/3 des chiffres 9 sont dans le 3ème cluster et l'autre ∼2/3 sont dans le 8ème cluster."
   ]
  },
  {
   "cell_type": "code",
   "execution_count": null,
   "metadata": {},
   "outputs": [],
   "source": [
    "# Mesurer la qualité du Clustering avec l’indice de la Silhouette\n",
    "print(\"Silhouette index:\", silhouette_score(X_train, hierarchy_labels))"
   ]
  },
  {
   "attachments": {},
   "cell_type": "markdown",
   "metadata": {},
   "source": [
    "Pour l’indice de la Silhouette moyen, il est presque égal à celui du K-moyennes, ce qui signifie que le clustering n'est pas très bon."
   ]
  },
  {
   "cell_type": "markdown",
   "metadata": {},
   "source": [
    "- Couper le dendrogramme à d’autres niveaux hiérarchiques: entre 11 et 20 clusters et calculer pour chaque K l’indice de la Silhouette. Pour quelle valeur de K obtenez-vous la meilleure partition ? Comparer au K-moyennes."
   ]
  },
  {
   "cell_type": "code",
   "execution_count": null,
   "metadata": {},
   "outputs": [],
   "source": [
    "# Couper le dendrogramme à d’autres niveaux hiérarchiques: entre 11 et 20 \n",
    "# clusters et calculer pour chaque K l’indice de la Silhouette\n",
    "sil_scores = [\n",
    "    silhouette_score(\n",
    "        X_train,\n",
    "        cut_tree(linkage_matrix, n_clusters=K).ravel()\n",
    "    )\n",
    "    for K in range(10,20+1)\n",
    "]\n",
    "plt.plot([K for K in range(10,20+1)], sil_scores)\n",
    "plt.show()\n",
    "\n",
    "print(\"Maximum value of Silhouette index:\", max(sil_scores))"
   ]
  },
  {
   "attachments": {},
   "cell_type": "markdown",
   "metadata": {},
   "source": [
    "Selon le graphique ci-dessus, K = 11 est le meilleur K pour le Clustering Hiérarchique car il a l’indice de la Silhouette le plus élevé, et c'est la même valeur de K du K-moyennes."
   ]
  },
  {
   "cell_type": "markdown",
   "metadata": {},
   "source": [
    "2. Phase de test après Clustering Hiérarchique : sur optdigits.tes"
   ]
  },
  {
   "attachments": {},
   "cell_type": "markdown",
   "metadata": {},
   "source": [
    "(i) Par cluster : faire un vote à la majorité pour attribuer un label à chaque cluster (la classe la plus représentée dans chaque cluster)"
   ]
  },
  {
   "cell_type": "code",
   "execution_count": null,
   "metadata": {},
   "outputs": [],
   "source": [
    "cluster_to_label = {}\n",
    "\n",
    "# for each cluster\n",
    "for i in range(10):\n",
    "\n",
    "    # labels in the cluster\n",
    "    label_in_cluster_i = y_train[[c == i for c in hierarchy_labels]]\n",
    "\n",
    "    # count number of each class in the cluster\n",
    "    num_label_in_cluster_i = [\n",
    "        np.sum([int(l == j) for l in label_in_cluster_i])\n",
    "        for j in range(10)\n",
    "    ]\n",
    "\n",
    "    # assign label that exist the most in the cluster to the cluster\n",
    "    cluster_to_label[i] = num_label_in_cluster_i.index(\n",
    "                                max(num_label_in_cluster_i))\n",
    "\n",
    "print('Majority vote (cluster to label):\\n', cluster_to_label)"
   ]
  },
  {
   "attachments": {},
   "cell_type": "markdown",
   "metadata": {},
   "source": [
    "Remarque : tous les labels sont attribués à un cluster, même le label 9, malgré les 2 mauvais clusters comme le K-moyennes."
   ]
  },
  {
   "cell_type": "markdown",
   "metadata": {},
   "source": [
    "(ii) Pour chaque élément de la BT (Base de Test) : optdigits.tes\n",
    "- Chercher le Cluster (Centre) le plus proche\n",
    "- Attribuer à cet élément de la BT le label associé au Cluster le plus proche\n",
    "- Calculer la matrice de confusions (matrice 10x10) et la performance globale : analyser les confusions. Comparer les résultats de classification à ceux obtenus avec le K-moyennes. Analysez."
   ]
  },
  {
   "cell_type": "code",
   "execution_count": null,
   "metadata": {},
   "outputs": [],
   "source": [
    "# Find the distances between each element and the centers\n",
    "y_pred = []\n",
    "for i in range(len(X_test)):\n",
    "    dist = [\n",
    "        math.dist(X_test.loc[i,:], centers[j]) \n",
    "        for j in range(10)\n",
    "    ]\n",
    "    # Attribuer à cet élément de la BT le label associé au Cluster le plus proche\n",
    "    y_pred.append(dist.index(min(dist)))\n",
    "\n",
    "# Convert cluster to label\n",
    "y_pred = [cluster_to_label[c] for c in y_pred]\n",
    "\n",
    "# Confusion matrix\n",
    "print('Confusion matrix:\\n{}'.format(\n",
    "                    confusion_matrix(y_test, y_pred)))\n",
    "\n",
    "# Calcul la performance globale\n",
    "print(classification_report(y_test, y_pred, digits=3))"
   ]
  },
  {
   "attachments": {},
   "cell_type": "markdown",
   "metadata": {},
   "source": [
    "Selon la matrice de confusion, comme le K-moyennes, nous pouvons voir que le résultat est bon sauf pour le label 9. Pour les labels 0 à 8, les éléments diagonaux de la matrice ont de grandes valeurs, ce qui signifie que beaucoup de ces chiffres sont correctement classés. Cependant, ce qui est différent du K-moyennes, c'est qu'il y a quelques chiffres 9 qui sont correctement classés même si la majorité des chiffres sont mal classés comme 3. Ceci est la conséquence de la question précédente d'avoir un cluster attribué au label 9."
   ]
  }
 ],
 "metadata": {
  "kernelspec": {
   "display_name": "Python 3 (ipykernel)",
   "language": "python",
   "name": "python3"
  },
  "language_info": {
   "codemirror_mode": {
    "name": "ipython",
    "version": 3
   },
   "file_extension": ".py",
   "mimetype": "text/x-python",
   "name": "python",
   "nbconvert_exporter": "python",
   "pygments_lexer": "ipython3",
   "version": "3.11.1"
  },
  "vscode": {
   "interpreter": {
    "hash": "916dbcbb3f70747c44a77c7bcd40155683ae19c65e1c03b4aa3499c5328201f1"
   }
  }
 },
 "nbformat": 4,
 "nbformat_minor": 2
}
